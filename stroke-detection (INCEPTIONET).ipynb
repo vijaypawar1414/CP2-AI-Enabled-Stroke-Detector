{
 "cells": [
  {
   "cell_type": "code",
   "execution_count": null,
   "metadata": {
    "_cell_guid": "b1076dfc-b9ad-4769-8c92-a6c4dae69d19",
    "_uuid": "8f2839f25d086af736a60e9eeb907d3b93b6e0e5",
    "execution": {
     "iopub.execute_input": "2025-06-28T05:20:41.726851Z",
     "iopub.status.busy": "2025-06-28T05:20:41.726300Z",
     "iopub.status.idle": "2025-06-28T05:20:41.740935Z",
     "shell.execute_reply": "2025-06-28T05:20:41.740328Z",
     "shell.execute_reply.started": "2025-06-28T05:20:41.726828Z"
    },
    "trusted": true
   },
   "outputs": [],
   "source": [
    "# torch\n",
    "from torch.utils.data import Dataset, DataLoader\n",
    "\n",
    "from torchvision.transforms import transforms\n",
    "\n",
    "from PIL import Image\n",
    "\n",
    "from sklearn.model_selection import train_test_split"
   ]
  },
  {
   "cell_type": "code",
   "execution_count": 3,
   "metadata": {
    "execution": {
     "iopub.execute_input": "2025-06-28T05:20:41.742827Z",
     "iopub.status.busy": "2025-06-28T05:20:41.742526Z",
     "iopub.status.idle": "2025-06-28T05:20:41.858285Z",
     "shell.execute_reply": "2025-06-28T05:20:41.857638Z",
     "shell.execute_reply.started": "2025-06-28T05:20:41.742810Z"
    },
    "trusted": true
   },
   "outputs": [
    {
     "name": "stdout",
     "output_type": "stream",
     "text": [
      "cuda\n",
      "Total images: 2501\n",
      "Training set size: 2000\n",
      "Testing set size: 501\n"
     ]
    }
   ],
   "source": [
    "import torch\n",
    "from glob import glob\n",
    "import os\n",
    "import random\n",
    "\n",
    "# Global variables\n",
    "device = \"cuda\" if torch.cuda.is_available() else \"cpu\"\n",
    "dataset_path = \"/kaggle/input/stroke-dataset-1/Brain_Data_Organised\"  # Update the dataset path to point to the single folder\n",
    "image_size = (224, 224)\n",
    "num_classes = 2\n",
    "\n",
    "# Get all image paths from both folders (normal and stroke)\n",
    "normal_image_paths = glob(os.path.join(dataset_path, \"Normal\", \"*.jpg\"))\n",
    "stroke_image_paths = glob(os.path.join(dataset_path, \"Stroke\", \"*.jpg\"))\n",
    "\n",
    "# Combine the paths and shuffle them\n",
    "image_paths = normal_image_paths + stroke_image_paths\n",
    "random.shuffle(image_paths)\n",
    "\n",
    "# Split the image paths into train and test sets\n",
    "train_ratio = 0.8  # 80% for training, 20% for testing\n",
    "train_size = int(train_ratio * len(image_paths))\n",
    "train_paths = image_paths[:train_size]\n",
    "test_paths = image_paths[train_size:]\n",
    "\n",
    "# Check device\n",
    "print(device)\n",
    "\n",
    "# Print the number of images in each set for verification\n",
    "print(f\"Total images: {len(image_paths)}\")\n",
    "print(f\"Training set size: {len(train_paths)}\")\n",
    "print(f\"Testing set size: {len(test_paths)}\")\n"
   ]
  },
  {
   "cell_type": "code",
   "execution_count": 4,
   "metadata": {
    "execution": {
     "iopub.execute_input": "2025-06-28T05:20:41.859166Z",
     "iopub.status.busy": "2025-06-28T05:20:41.858986Z",
     "iopub.status.idle": "2025-06-28T05:20:41.864221Z",
     "shell.execute_reply": "2025-06-28T05:20:41.863338Z",
     "shell.execute_reply.started": "2025-06-28T05:20:41.859152Z"
    },
    "trusted": true
   },
   "outputs": [],
   "source": [
    "# data augmentation\n",
    "train_transform = transforms.Compose([\n",
    "    transforms.RandomHorizontalFlip(),\n",
    "    transforms.RandomVerticalFlip(),\n",
    "    transforms.RandomRotation(10),\n",
    "    transforms.Resize(image_size),\n",
    "    transforms.ToTensor(),\n",
    "    transforms.Normalize(mean=[0.485, 0.456, 0.406], std=[0.229, 0.224, 0.225])\n",
    "])\n",
    "\n",
    "test_transform = transforms.Compose([\n",
    "    transforms.Resize(image_size),\n",
    "    transforms.ToTensor(),\n",
    "    transforms.Normalize(mean=[0.485, 0.456, 0.406], std=[0.229, 0.224, 0.225])\n",
    "])"
   ]
  },
  {
   "cell_type": "code",
   "execution_count": 5,
   "metadata": {
    "execution": {
     "iopub.execute_input": "2025-06-28T05:20:41.865149Z",
     "iopub.status.busy": "2025-06-28T05:20:41.864945Z",
     "iopub.status.idle": "2025-06-28T05:20:41.879491Z",
     "shell.execute_reply": "2025-06-28T05:20:41.878885Z",
     "shell.execute_reply.started": "2025-06-28T05:20:41.865134Z"
    },
    "trusted": true
   },
   "outputs": [],
   "source": [
    "# custom dataset class\n",
    "class dataset(Dataset):\n",
    "    def __init__(self,paths,transform=None):\n",
    "        self.paths = paths\n",
    "        self.transform = transform\n",
    "        self.labels = [self.get_label(path) for path in self.paths]\n",
    "        self.labels_to_index = {label:index for index,label in enumerate(list(set(self.labels)))}\n",
    "    \n",
    "    def __getitem__(self,index):\n",
    "        img_path = self.paths[index]\n",
    "        img = Image.open(img_path).convert('RGB') \n",
    "        label = self.labels[index]\n",
    "        label_index = self.labels_to_index[label]\n",
    "        \n",
    "        if self.transform:\n",
    "            img = self.transform(img)\n",
    "        \n",
    "        return img, label_index,label\n",
    "    \n",
    "    \n",
    "    def __len__(self):\n",
    "        return len(self.paths)\n",
    "    \n",
    "    \n",
    "    def get_label(self, path):\n",
    "        return os.path.basename(os.path.dirname(path))"
   ]
  },
  {
   "cell_type": "code",
   "execution_count": 6,
   "metadata": {
    "execution": {
     "iopub.execute_input": "2025-06-28T05:20:41.881206Z",
     "iopub.status.busy": "2025-06-28T05:20:41.881014Z",
     "iopub.status.idle": "2025-06-28T05:20:48.693576Z",
     "shell.execute_reply": "2025-06-28T05:20:48.692785Z",
     "shell.execute_reply.started": "2025-06-28T05:20:41.881191Z"
    },
    "trusted": true
   },
   "outputs": [],
   "source": [
    "train_dataset = dataset(train_paths, transform=train_transform)\n",
    "test_dataset = dataset(test_paths, transform=test_transform)\n",
    "val_dataset, test_dataset = train_test_split(test_dataset,test_size=0.5)"
   ]
  },
  {
   "cell_type": "code",
   "execution_count": 7,
   "metadata": {
    "execution": {
     "iopub.execute_input": "2025-06-28T05:20:48.694630Z",
     "iopub.status.busy": "2025-06-28T05:20:48.694406Z",
     "iopub.status.idle": "2025-06-28T05:20:48.699256Z",
     "shell.execute_reply": "2025-06-28T05:20:48.698545Z",
     "shell.execute_reply.started": "2025-06-28T05:20:48.694611Z"
    },
    "trusted": true
   },
   "outputs": [],
   "source": [
    "train_loader = DataLoader(train_dataset, batch_size=32, shuffle=True)\n",
    "val_loader = DataLoader(val_dataset, batch_size=32, shuffle=False)\n",
    "test_loader = DataLoader(test_dataset, batch_size=32, shuffle=False)"
   ]
  },
  {
   "cell_type": "code",
   "execution_count": 8,
   "metadata": {
    "execution": {
     "iopub.execute_input": "2025-06-28T05:20:48.700895Z",
     "iopub.status.busy": "2025-06-28T05:20:48.700430Z",
     "iopub.status.idle": "2025-06-28T05:25:40.285656Z",
     "shell.execute_reply": "2025-06-28T05:25:40.285026Z",
     "shell.execute_reply.started": "2025-06-28T05:20:48.700874Z"
    },
    "trusted": true
   },
   "outputs": [
    {
     "data": {
      "application/vnd.jupyter.widget-view+json": {
       "model_id": "89b0b6008e124c8f88881ab2e23b5ad5",
       "version_major": 2,
       "version_minor": 0
      },
      "text/plain": [
       "model.safetensors:   0%|          | 0.00/95.5M [00:00<?, ?B/s]"
      ]
     },
     "metadata": {},
     "output_type": "display_data"
    },
    {
     "name": "stdout",
     "output_type": "stream",
     "text": [
      "Epoch 1: Train Loss: 0.7627, Train Acc: 64.55%, Val Loss: 0.7320, Val Acc: 70.40%\n",
      "Epoch 2: Train Loss: 0.5071, Train Acc: 76.25%, Val Loss: 0.3925, Val Acc: 78.80%\n",
      "Epoch 3: Train Loss: 0.3726, Train Acc: 82.75%, Val Loss: 0.4179, Val Acc: 83.20%\n",
      "Epoch 4: Train Loss: 0.3004, Train Acc: 87.20%, Val Loss: 0.3477, Val Acc: 83.60%\n",
      "Epoch 5: Train Loss: 0.2587, Train Acc: 89.85%, Val Loss: 0.2289, Val Acc: 88.80%\n",
      "Epoch 6: Train Loss: 0.2128, Train Acc: 91.30%, Val Loss: 0.2799, Val Acc: 89.60%\n",
      "Epoch 7: Train Loss: 0.1453, Train Acc: 94.25%, Val Loss: 0.2599, Val Acc: 90.40%\n",
      "Epoch 8: Train Loss: 0.1695, Train Acc: 93.55%, Val Loss: 0.2343, Val Acc: 92.80%\n",
      "Epoch 9: Train Loss: 0.1631, Train Acc: 94.00%, Val Loss: 0.1729, Val Acc: 94.00%\n",
      "Epoch 10: Train Loss: 0.1063, Train Acc: 96.40%, Val Loss: 0.1708, Val Acc: 95.20%\n"
     ]
    },
    {
     "data": {
      "image/png": "[encoded data removed]",
      "text/plain": [
       "<Figure size 640x480 with 2 Axes>"
      ]
     },
     "metadata": {},
     "output_type": "display_data"
    },
    {
     "name": "stdout",
     "output_type": "stream",
     "text": [
      "Classification Report:\n",
      "              precision    recall  f1-score   support\n",
      "\n",
      "           0       0.90      0.96      0.93        82\n",
      "           1       0.98      0.95      0.96       168\n",
      "\n",
      "    accuracy                           0.95       250\n",
      "   macro avg       0.94      0.95      0.95       250\n",
      "weighted avg       0.95      0.95      0.95       250\n",
      "\n"
     ]
    }
   ],
   "source": [
    "import torch\n",
    "import torch.nn as nn\n",
    "import torch.optim as optim\n",
    "from torch.utils.data import DataLoader\n",
    "from sklearn.metrics import confusion_matrix, ConfusionMatrixDisplay, classification_report\n",
    "import matplotlib.pyplot as plt\n",
    "import timm  # Make sure it's installed: pip install timm\n",
    "\n",
    "# Assuming these are predefined\n",
    "train_loader = DataLoader(train_dataset, batch_size=32, shuffle=True)\n",
    "val_loader = DataLoader(val_dataset, batch_size=32, shuffle=False)\n",
    "test_loader = DataLoader(test_dataset, batch_size=32, shuffle=False)\n",
    "\n",
    "device = torch.device(\"cuda\" if torch.cuda.is_available() else \"cpu\")\n",
    "num_classes = 2  # Update if needed\n",
    "\n",
    "# ========================== InceptionNet Model ==========================\n",
    "class InceptionNetModel(nn.Module):\n",
    "    def __init__(self, num_classes):\n",
    "        super(InceptionNetModel, self).__init__()\n",
    "        self.model = timm.create_model('inception_v3', pretrained=True, num_classes=num_classes)\n",
    "        # timm's inception_v3 expects input size 299x299\n",
    "        self.model.aux_logits = False  # Optional, to disable auxiliary logits if not used\n",
    "\n",
    "    def forward(self, x):\n",
    "        return self.model(x)\n",
    "\n",
    "# ========================== Initialize Model, Loss, Optimizer ==========================\n",
    "model = InceptionNetModel(num_classes=num_classes).to(device)\n",
    "criterion = nn.CrossEntropyLoss()\n",
    "optimizer = optim.Adam(model.parameters(), lr=1e-4)\n",
    "\n",
    "# ========================== Training Function ==========================\n",
    "def train_epoch():\n",
    "    model.train()\n",
    "    running_loss = 0.0\n",
    "    correct_predictions = 0\n",
    "    total_predictions = 0\n",
    "\n",
    "    for batch in train_loader:\n",
    "        data = batch[0].to(device)\n",
    "        labels = batch[1].to(device)\n",
    "\n",
    "        optimizer.zero_grad()\n",
    "        outputs = model(data)\n",
    "        loss = criterion(outputs, labels)\n",
    "        loss.backward()\n",
    "        optimizer.step()\n",
    "\n",
    "        running_loss += loss.item()\n",
    "        _, preds = torch.max(outputs, 1)\n",
    "        correct_predictions += (preds == labels).sum().item()\n",
    "        total_predictions += labels.size(0)\n",
    "\n",
    "    avg_loss = running_loss / len(train_loader)\n",
    "    accuracy = correct_predictions / total_predictions\n",
    "    return avg_loss, accuracy\n",
    "\n",
    "# ========================== Evaluation Function ==========================\n",
    "def eval_model(loader):\n",
    "    model.eval()\n",
    "    running_loss = 0.0\n",
    "    correct_predictions = 0\n",
    "    total_predictions = 0\n",
    "\n",
    "    with torch.no_grad():\n",
    "        for batch in loader:\n",
    "            data = batch[0].to(device)\n",
    "            labels = batch[1].to(device)\n",
    "\n",
    "            outputs = model(data)\n",
    "            loss = criterion(outputs, labels)\n",
    "\n",
    "            running_loss += loss.item()\n",
    "            _, preds = torch.max(outputs, 1)\n",
    "            correct_predictions += (preds == labels).sum().item()\n",
    "            total_predictions += labels.size(0)\n",
    "\n",
    "    avg_loss = running_loss / len(loader)\n",
    "    accuracy = correct_predictions / total_predictions\n",
    "    return avg_loss, accuracy\n",
    "\n",
    "# ========================== Main Training Loop ==========================\n",
    "best_score = float(\"inf\")\n",
    "n_epochs = 10\n",
    "tolerance = 0\n",
    "\n",
    "for epoch in range(n_epochs):\n",
    "    train_loss, train_acc = train_epoch()\n",
    "    val_loss, val_acc = eval_model(val_loader)\n",
    "\n",
    "    if val_loss < best_score:\n",
    "        best_score = val_loss\n",
    "        torch.save(model.state_dict(), \"inception_best.pt\")\n",
    "        tolerance = 0\n",
    "    else:\n",
    "        tolerance += 1\n",
    "        if tolerance >= 8:\n",
    "            print(\"Early stopping triggered.\")\n",
    "            break\n",
    "\n",
    "    print(f\"Epoch {epoch+1}: \"\n",
    "          f\"Train Loss: {train_loss:.4f}, Train Acc: {train_acc*100:.2f}%, \"\n",
    "          f\"Val Loss: {val_loss:.4f}, Val Acc: {val_acc*100:.2f}%\")\n",
    "\n",
    "# ========================== Final Evaluation ==========================\n",
    "all_preds, all_labels = [], []\n",
    "model.eval()\n",
    "with torch.no_grad():\n",
    "    for batch in val_loader:\n",
    "        data = batch[0].to(device)\n",
    "        labels = batch[1].to(device)\n",
    "        outputs = model(data)\n",
    "        _, preds = torch.max(outputs, 1)\n",
    "        all_preds.extend(preds.cpu().numpy())\n",
    "        all_labels.extend(labels.cpu().numpy())\n",
    "\n",
    "# ========================== Metrics and Confusion Matrix ==========================\n",
    "cm = confusion_matrix(all_labels, all_preds)\n",
    "disp = ConfusionMatrixDisplay(confusion_matrix=cm)\n",
    "disp.plot(cmap=plt.cm.Blues)\n",
    "plt.title(\"Confusion Matrix for InceptionNet\")\n",
    "plt.show()\n",
    "\n",
    "print(\"Classification Report:\")\n",
    "print(classification_report(all_labels, all_preds))\n"
   ]
  },
  {
   "cell_type": "code",
   "execution_count": null,
   "metadata": {
    "trusted": true
   },
   "outputs": [],
   "source": []
  }
 ],
 "metadata": {
  "kaggle": {
   "accelerator": "gpu",
   "dataSources": [
    {
     "datasetId": 7753312,
     "sourceId": 12301030,
     "sourceType": "datasetVersion"
    }
   ],
   "dockerImageVersionId": 31041,
   "isGpuEnabled": true,
   "isInternetEnabled": true,
   "language": "python",
   "sourceType": "notebook"
  },
  "kernelspec": {
   "display_name": "Python 3",
   "language": "python",
   "name": "python3"
  },
  "language_info": {
   "codemirror_mode": {
    "name": "ipython",
    "version": 3
   },
   "file_extension": ".py",
   "mimetype": "text/x-python",
   "name": "python",
   "nbconvert_exporter": "python",
   "pygments_lexer": "ipython3",
   "version": "3.11.11"
  }
 },
 "nbformat": 4,
 "nbformat_minor": 4
}
